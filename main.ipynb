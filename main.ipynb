{
  "nbformat": 4,
  "nbformat_minor": 0,
  "metadata": {
    "colab": {
      "provenance": []
    },
    "kernelspec": {
      "name": "python3",
      "display_name": "Python 3"
    },
    "language_info": {
      "name": "python"
    }
  },
  "cells": [
    {
      "cell_type": "code",
      "execution_count": null,
      "metadata": {
        "colab": {
          "base_uri": "https://localhost:8080/"
        },
        "id": "Mfrmr9U9NvjQ",
        "outputId": "91090502-8045-48a5-f570-cd58e8ccb4ca"
      },
      "outputs": [
        {
          "output_type": "stream",
          "name": "stdout",
          "text": [
            "Dissertation\n"
          ]
        }
      ],
      "source": [
        "print(\"Dissertation\")\n",
        "print(\"Anna Woodcock\")"
      ]
    }
  ]
}