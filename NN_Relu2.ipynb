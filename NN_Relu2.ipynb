{
  "nbformat": 4,
  "nbformat_minor": 0,
  "metadata": {
    "colab": {
      "provenance": [],
      "machine_shape": "hm",
      "gpuType": "T4",
      "authorship_tag": "ABX9TyP8Uqf7d6GhRjFFmFFKT3Vp"
    },
    "kernelspec": {
      "name": "python3",
      "display_name": "Python 3"
    },
    "language_info": {
      "name": "python"
    },
    "accelerator": "GPU"
  },
  "cells": [
    {
      "cell_type": "markdown",
      "source": [
        "Below is the list of required files that need to uploaded for this script to run:\n",
        "\n",
        "- `nn_utils.py`\n",
        "- `utils.py`\n",
        "- `nn_relu_utils.py`\n",
        "- `diabetes_binary_5050split_health_indicators_BRFSS2015.csv`"
      ],
      "metadata": {
        "id": "HTrtx53ejxyz"
      }
    },
    {
      "cell_type": "code",
      "execution_count": 1,
      "metadata": {
        "colab": {
          "base_uri": "https://localhost:8080/"
        },
        "id": "qsTN29a5dkdN",
        "outputId": "ed009219-9d87-4a12-8ef4-ecbfb706a483"
      },
      "outputs": [
        {
          "output_type": "stream",
          "name": "stdout",
          "text": [
            "Collecting tenseal\n",
            "  Downloading tenseal-0.3.14-cp310-cp310-manylinux_2_17_x86_64.manylinux2014_x86_64.whl (4.9 MB)\n",
            "\u001b[2K     \u001b[90m━━━━━━━━━━━━━━━━━━━━━━━━━━━━━━━━━━━━━━━━\u001b[0m \u001b[32m4.9/4.9 MB\u001b[0m \u001b[31m32.7 MB/s\u001b[0m eta \u001b[36m0:00:00\u001b[0m\n",
            "\u001b[?25hInstalling collected packages: tenseal\n",
            "Successfully installed tenseal-0.3.14\n"
          ]
        }
      ],
      "source": [
        "pip install tenseal"
      ]
    },
    {
      "cell_type": "code",
      "source": [
        "import torch\n",
        "import random\n",
        "import tenseal as ts\n",
        "from time import time\n",
        "from utils import load_diabetes_data_5050,create_dataloader, print_metrics\n",
        "from nn_utils import train, evaluate_model\n",
        "from nn_relu_utils import NeuralNet_Relu2\n",
        "\n",
        "torch.random.manual_seed(73)\n",
        "random.seed(73)"
      ],
      "metadata": {
        "id": "CKS4jkWcd9gg"
      },
      "execution_count": 2,
      "outputs": []
    },
    {
      "cell_type": "markdown",
      "source": [
        "# Training Neural Network on Unencrypted Data"
      ],
      "metadata": {
        "id": "Ckxw8hwjfydR"
      }
    },
    {
      "cell_type": "code",
      "source": [
        "#Load BRFSS dataset with 50/50 split\n",
        "x_train, x_test, y_train, y_test = load_diabetes_data_5050()"
      ],
      "metadata": {
        "id": "HS_bXUCfeZh0"
      },
      "execution_count": 3,
      "outputs": []
    },
    {
      "cell_type": "code",
      "source": [
        "train_dl = create_dataloader(x_train, y_train)\n",
        "test_dl = create_dataloader(x_test, y_test)"
      ],
      "metadata": {
        "id": "VpoFjGIaebNz"
      },
      "execution_count": 4,
      "outputs": []
    },
    {
      "cell_type": "code",
      "source": [
        "model = NeuralNet_Relu2()\n",
        "criterion = torch.nn.BCEWithLogitsLoss()\n",
        "optimizer = torch.optim.Adam(model.parameters(), lr=0.001)\n",
        "model = train(model, train_dl, criterion, optimizer, 10)"
      ],
      "metadata": {
        "colab": {
          "base_uri": "https://localhost:8080/"
        },
        "id": "sN9o2CYaeeE_",
        "outputId": "953282ad-7640-413c-b037-da0b2934495b"
      },
      "execution_count": 5,
      "outputs": [
        {
          "output_type": "stream",
          "name": "stdout",
          "text": [
            "Epoch: 1 \tTraining Loss: 0.517529\n",
            "Epoch: 2 \tTraining Loss: 0.505575\n",
            "Epoch: 3 \tTraining Loss: 0.504329\n",
            "Epoch: 4 \tTraining Loss: 0.503680\n",
            "Epoch: 5 \tTraining Loss: 0.503214\n",
            "Epoch: 6 \tTraining Loss: 0.502817\n",
            "Epoch: 7 \tTraining Loss: 0.502547\n",
            "Epoch: 8 \tTraining Loss: 0.502398\n",
            "Epoch: 9 \tTraining Loss: 0.502191\n",
            "Epoch: 10 \tTraining Loss: 0.502040\n"
          ]
        }
      ]
    },
    {
      "cell_type": "code",
      "source": [
        "# Evaluate the model\n",
        "accuracy, precision, recall, f1, confusion = evaluate_model(model, test_dl)\n",
        "\n",
        "# Print the evaluation metrics\n",
        "print_metrics(accuracy, precision, recall, f1, confusion)"
      ],
      "metadata": {
        "colab": {
          "base_uri": "https://localhost:8080/"
        },
        "id": "BYfuFzemef56",
        "outputId": "a0288d31-1c52-4841-dc12-6aaa01226c5e"
      },
      "execution_count": 6,
      "outputs": [
        {
          "output_type": "stream",
          "name": "stdout",
          "text": [
            "Evaluated test_set of 14139 entries in 0 seconds\n",
            "Accuracy: 0.7564\n",
            "Precision: 0.7234\n",
            "Recall: 0.8317\n",
            "F1 Score: 0.7737\n",
            "Confusion Matrix:\n",
            " [[4806 2252]\n",
            " [1192 5889]]\n"
          ]
        }
      ]
    },
    {
      "cell_type": "markdown",
      "source": [
        "# Evaluating NN on encrypted data"
      ],
      "metadata": {
        "id": "kZI5sBf9f6xh"
      }
    },
    {
      "cell_type": "code",
      "source": [
        "## Encryption Parameters\n",
        "\n",
        "# controls precision of the fractional part\n",
        "bits_scale = 26\n",
        "\n",
        "# Create TenSEAL context\n",
        "context = ts.context(\n",
        "    ts.SCHEME_TYPE.CKKS,\n",
        "    poly_modulus_degree=8192*2,\n",
        "    coeff_mod_bit_sizes=[31, bits_scale, bits_scale,bits_scale,bits_scale, bits_scale, bits_scale, bits_scale, 31]\n",
        ")\n",
        "\n",
        "# set the scale\n",
        "context.global_scale = pow(2, bits_scale)\n",
        "\n",
        "# galois keys are required to do ciphertext rotations\n",
        "context.generate_galois_keys()"
      ],
      "metadata": {
        "id": "mgYmOzSuf-rp"
      },
      "execution_count": 7,
      "outputs": []
    },
    {
      "cell_type": "code",
      "source": [
        "\n",
        "t_start = time()\n",
        "enc_x_test = [ts.ckks_vector(context, x.tolist()) for x in x_test[:100]]\n",
        "t_end = time()\n",
        "print(f\"Encryption of the test-set took {int(t_end - t_start)} seconds\")"
      ],
      "metadata": {
        "colab": {
          "base_uri": "https://localhost:8080/"
        },
        "id": "O5UQg_Ffg3Vt",
        "outputId": "29973227-57b4-47d1-ec98-0b1663ac69d8"
      },
      "execution_count": 8,
      "outputs": [
        {
          "output_type": "stream",
          "name": "stdout",
          "text": [
            "Encryption of the test-set took 2 seconds\n"
          ]
        }
      ]
    },
    {
      "cell_type": "code",
      "source": [
        "def relu_approx(enc_x):\n",
        "      # We use the polynomial approximation of degree 2\n",
        "      # relu(x) = 0.563059 + 0.5*x + 0.078047*x**2\n",
        "      # from https://ieeexplore.ieee.org/stamp/stamp.jsp?tp=&arnumber=9378372&tag=1\n",
        "      # which fits the function pretty well in the range [-6,6]\n",
        "      return enc_x.polyval([0.563059, 0.5, 0.078047])\n",
        "\n",
        "class EncConvNet:\n",
        "    def __init__(self, torch_nn):\n",
        "\n",
        "        self.fc1_weight = torch_nn.fc1.weight.T.data.tolist()\n",
        "        self.fc1_bias = torch_nn.fc1.bias.data.tolist()\n",
        "\n",
        "        self.fc2_weight = torch_nn.fc2.weight.T.data.tolist()\n",
        "        self.fc2_bias = torch_nn.fc2.bias.data.tolist()\n",
        "\n",
        "        self.fc3_weight = torch_nn.fc3.weight.T.data.tolist()\n",
        "        self.fc3_bias = torch_nn.fc3.bias.data.tolist()\n",
        "\n",
        "\n",
        "    def forward(self, enc_x):\n",
        "        # fc1 layer\n",
        "        enc_x = enc_x.mm(self.fc1_weight) + self.fc1_bias\n",
        "        # relu approximation\n",
        "        enc_x = relu_approx(enc_x)\n",
        "        # fc2 layer\n",
        "        enc_x = enc_x.mm(self.fc2_weight) + self.fc2_bias\n",
        "        # relu approximation\n",
        "        enc_x = relu_approx(enc_x)\n",
        "        # fc3 layer\n",
        "        enc_x = enc_x.mm(self.fc3_weight) + self.fc3_bias\n",
        "        return enc_x\n",
        "\n",
        "    def __call__(self, *args, **kwargs):\n",
        "        return self.forward(*args, **kwargs)\n"
      ],
      "metadata": {
        "id": "qOzQsONrgaJB"
      },
      "execution_count": 9,
      "outputs": []
    },
    {
      "cell_type": "code",
      "source": [
        "from sklearn.metrics import accuracy_score, precision_score, recall_score, f1_score, confusion_matrix\n",
        "\n",
        "def encrypted_evaluation(model, enc_x_test, y_test):\n",
        "  t_start = time()\n",
        "  y_true = []\n",
        "  y_pred = []\n",
        "\n",
        "  for enc_x, y in zip(enc_x_test, y_test):\n",
        "        # encrypted evaluation\n",
        "        enc_out = model(enc_x)\n",
        "        # plain comparison\n",
        "        output = enc_out.decrypt()\n",
        "        output = torch.tensor(output)\n",
        "        output = torch.sigmoid(output)\n",
        "        predicted = output >= 0.5\n",
        "        y_true.extend(y.view(-1).tolist())\n",
        "        y_pred.extend(predicted.view(-1).tolist())\n",
        "\n",
        "  t_end = time()\n",
        "  print(f\"Evaluated test_set of {len(y_test)} entries in {int(t_end - t_start)} seconds\")\n",
        "\n",
        "  # Calculate metrics\n",
        "  accuracy = accuracy_score(y_true, y_pred)\n",
        "  precision = precision_score(y_true, y_pred)\n",
        "  recall = recall_score(y_true, y_pred)\n",
        "  f1 = f1_score(y_true, y_pred)\n",
        "  confusion = confusion_matrix(y_true, y_pred)\n",
        "\n",
        "  return accuracy, precision, recall, f1, confusion"
      ],
      "metadata": {
        "id": "oOtEOgg9hKTr"
      },
      "execution_count": 10,
      "outputs": []
    },
    {
      "cell_type": "code",
      "source": [
        "enc_model = EncConvNet(model)\n",
        "accuracy, precision, recall, f1, confusion = encrypted_evaluation(enc_model, enc_x_test, y_test[:100])\n",
        "print_metrics(accuracy, precision, recall, f1, confusion)"
      ],
      "metadata": {
        "id": "bSoyhFtFhfvj",
        "colab": {
          "base_uri": "https://localhost:8080/"
        },
        "outputId": "09fb44ba-7605-4bb6-be4d-b78f8bcacfc5"
      },
      "execution_count": 11,
      "outputs": [
        {
          "output_type": "stream",
          "name": "stdout",
          "text": [
            "Evaluated test_set of 100 entries in 67 seconds\n",
            "Accuracy: 0.7400\n",
            "Precision: 0.8605\n",
            "Recall: 0.6491\n",
            "F1 Score: 0.7400\n",
            "Confusion Matrix:\n",
            " [[37  6]\n",
            " [20 37]]\n"
          ]
        }
      ]
    }
  ]
}