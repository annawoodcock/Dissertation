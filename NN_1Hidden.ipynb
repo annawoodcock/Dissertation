{
  "nbformat": 4,
  "nbformat_minor": 0,
  "metadata": {
    "colab": {
      "provenance": [],
      "machine_shape": "hm",
      "gpuType": "T4",
      "authorship_tag": "ABX9TyM6fN91R4pjhitwv7/DP/xO",
      "include_colab_link": true
    },
    "kernelspec": {
      "name": "python3",
      "display_name": "Python 3"
    },
    "language_info": {
      "name": "python"
    },
    "accelerator": "GPU"
  },
  "cells": [
    {
      "cell_type": "markdown",
      "metadata": {
        "id": "view-in-github",
        "colab_type": "text"
      },
      "source": [
        "<a href=\"https://colab.research.google.com/github/annawoodcock/Thesis/blob/main/NN_1Hidden.ipynb\" target=\"_parent\"><img src=\"https://colab.research.google.com/assets/colab-badge.svg\" alt=\"Open In Colab\"/></a>"
      ]
    },
    {
      "cell_type": "markdown",
      "source": [
        "Below is the list of required files that need to uploaded for this script to run:\n",
        "\n",
        "- `nn_utils.py`\n",
        "- `utils.py`\n",
        "- 'diabetes_binary_5050split_health_indicators_BRFSS2015.csv`"
      ],
      "metadata": {
        "id": "HTrtx53ejxyz"
      }
    },
    {
      "cell_type": "code",
      "execution_count": 36,
      "metadata": {
        "colab": {
          "base_uri": "https://localhost:8080/"
        },
        "id": "qsTN29a5dkdN",
        "outputId": "4bebff5e-57b3-4099-cf5d-d3a9836444d5"
      },
      "outputs": [
        {
          "output_type": "stream",
          "name": "stdout",
          "text": [
            "Requirement already satisfied: tenseal in /usr/local/lib/python3.10/dist-packages (0.3.14)\n"
          ]
        }
      ],
      "source": [
        "pip install tenseal"
      ]
    },
    {
      "cell_type": "code",
      "source": [
        "import torch\n",
        "import random\n",
        "import tenseal as ts\n",
        "from time import time\n",
        "from utils import load_diabetes_data_5050,create_dataloader, print_metrics\n",
        "from nn_utils import NeuralNet1,train, evaluate_model\n",
        "\n",
        "torch.random.manual_seed(73)\n",
        "random.seed(73)"
      ],
      "metadata": {
        "id": "CKS4jkWcd9gg"
      },
      "execution_count": 37,
      "outputs": []
    },
    {
      "cell_type": "markdown",
      "source": [
        "# Training Neural Network on Unencrypted Data"
      ],
      "metadata": {
        "id": "Ckxw8hwjfydR"
      }
    },
    {
      "cell_type": "code",
      "source": [
        "#Load BRFSS dataset with 50/50 split\n",
        "x_train, x_test, y_train, y_test = load_diabetes_data_5050()"
      ],
      "metadata": {
        "id": "HS_bXUCfeZh0"
      },
      "execution_count": 38,
      "outputs": []
    },
    {
      "cell_type": "code",
      "source": [
        "train_dl = create_dataloader(x_train, y_train)\n",
        "test_dl = create_dataloader(x_test, y_test)"
      ],
      "metadata": {
        "id": "VpoFjGIaebNz"
      },
      "execution_count": 39,
      "outputs": []
    },
    {
      "cell_type": "code",
      "source": [
        "model = NeuralNet1()\n",
        "criterion = torch.nn.BCEWithLogitsLoss()\n",
        "optimizer = torch.optim.Adam(model.parameters(), lr=0.001)\n",
        "model = train(model, train_dl, criterion, optimizer, 10)"
      ],
      "metadata": {
        "colab": {
          "base_uri": "https://localhost:8080/"
        },
        "id": "sN9o2CYaeeE_",
        "outputId": "1dc29395-1266-4115-9ff4-9cafb7914d49"
      },
      "execution_count": 40,
      "outputs": [
        {
          "output_type": "stream",
          "name": "stdout",
          "text": [
            "Epoch: 1 \tTraining Loss: 0.521502\n",
            "Epoch: 2 \tTraining Loss: 0.504805\n",
            "Epoch: 3 \tTraining Loss: 0.503924\n",
            "Epoch: 4 \tTraining Loss: 0.503462\n",
            "Epoch: 5 \tTraining Loss: 0.503193\n",
            "Epoch: 6 \tTraining Loss: 0.503023\n",
            "Epoch: 7 \tTraining Loss: 0.502906\n",
            "Epoch: 8 \tTraining Loss: 0.502817\n",
            "Epoch: 9 \tTraining Loss: 0.502744\n",
            "Epoch: 10 \tTraining Loss: 0.502687\n"
          ]
        }
      ]
    },
    {
      "cell_type": "code",
      "source": [
        "# Evaluate the model\n",
        "accuracy, precision, recall, f1, confusion = evaluate_model(model, test_dl)\n",
        "\n",
        "# Print the evaluation metrics\n",
        "print_metrics(accuracy, precision, recall, f1, confusion)"
      ],
      "metadata": {
        "colab": {
          "base_uri": "https://localhost:8080/"
        },
        "id": "BYfuFzemef56",
        "outputId": "349e5fc2-885c-4abd-8064-0a78eae84ceb"
      },
      "execution_count": 41,
      "outputs": [
        {
          "output_type": "stream",
          "name": "stdout",
          "text": [
            "Evaluated test_set of 14139 entries in 0 seconds\n",
            "Accuracy: 0.7583\n",
            "Precision: 0.7299\n",
            "Recall: 0.8214\n",
            "F1 Score: 0.7729\n",
            "Confusion Matrix:\n",
            " [[4906 2152]\n",
            " [1265 5816]]\n"
          ]
        }
      ]
    },
    {
      "cell_type": "markdown",
      "source": [
        "# Evaluating NN on encrypted data"
      ],
      "metadata": {
        "id": "kZI5sBf9f6xh"
      }
    },
    {
      "cell_type": "code",
      "source": [
        "## Encryption Parameters\n",
        "\n",
        "# controls precision of the fractional part\n",
        "bits_scale = 26\n",
        "\n",
        "# Create TenSEAL context\n",
        "context = ts.context(\n",
        "    ts.SCHEME_TYPE.CKKS,\n",
        "    poly_modulus_degree=8192,\n",
        "    coeff_mod_bit_sizes=[31, bits_scale, bits_scale, bits_scale, 31]\n",
        ")\n",
        "\n",
        "# set the scale\n",
        "context.global_scale = pow(2, bits_scale)\n",
        "\n",
        "# galois keys are required to do ciphertext rotations\n",
        "context.generate_galois_keys()"
      ],
      "metadata": {
        "id": "mgYmOzSuf-rp"
      },
      "execution_count": 42,
      "outputs": []
    },
    {
      "cell_type": "code",
      "source": [
        "\n",
        "t_start = time()\n",
        "enc_x_test = [ts.ckks_vector(context, x.tolist()) for x in x_test]\n",
        "t_end = time()\n",
        "print(f\"Encryption of the test-set took {int(t_end - t_start)} seconds\")"
      ],
      "metadata": {
        "colab": {
          "base_uri": "https://localhost:8080/"
        },
        "id": "O5UQg_Ffg3Vt",
        "outputId": "2f5fa5e2-d4c6-4744-c0f8-d3defc7204d7"
      },
      "execution_count": 43,
      "outputs": [
        {
          "output_type": "stream",
          "name": "stdout",
          "text": [
            "Encryption of the test-set took 97 seconds\n"
          ]
        }
      ]
    },
    {
      "cell_type": "code",
      "source": [
        "class EncConvNet:\n",
        "    def __init__(self, torch_nn):\n",
        "\n",
        "        self.fc1_weight = torch_nn.fc1.weight.T.data.tolist()\n",
        "        self.fc1_bias = torch_nn.fc1.bias.data.tolist()\n",
        "\n",
        "        self.fc2_weight = torch_nn.fc2.weight.T.data.tolist()\n",
        "        self.fc2_bias = torch_nn.fc2.bias.data.tolist()\n",
        "\n",
        "\n",
        "    def forward(self, enc_x):\n",
        "        # fc1 layer\n",
        "        enc_x = enc_x.mm(self.fc1_weight) + self.fc1_bias\n",
        "        # square activation\n",
        "        enc_x.square_()\n",
        "        # fc2 layer\n",
        "        enc_x = enc_x.mm(self.fc2_weight) + self.fc2_bias\n",
        "        return enc_x\n",
        "\n",
        "    def __call__(self, *args, **kwargs):\n",
        "        return self.forward(*args, **kwargs)\n"
      ],
      "metadata": {
        "id": "qOzQsONrgaJB"
      },
      "execution_count": 44,
      "outputs": []
    },
    {
      "cell_type": "code",
      "source": [
        "from sklearn.metrics import accuracy_score, precision_score, recall_score, f1_score, confusion_matrix\n",
        "\n",
        "def encrypted_evaluation(model, enc_x_test, y_test):\n",
        "  t_start = time()\n",
        "  y_true = []\n",
        "  y_pred = []\n",
        "\n",
        "  for enc_x, y in zip(enc_x_test, y_test):\n",
        "        # encrypted evaluation\n",
        "        enc_out = model(enc_x)\n",
        "        # plain comparison\n",
        "        output = enc_out.decrypt()\n",
        "        output = torch.tensor(output)\n",
        "        output = torch.sigmoid(output)\n",
        "        predicted = output >= 0.5\n",
        "        y_true.extend(y.view(-1).tolist())\n",
        "        y_pred.extend(predicted.view(-1).tolist())\n",
        "\n",
        "  t_end = time()\n",
        "  print(f\"Evaluated test_set of {len(y_test)} entries in {int(t_end - t_start)} seconds\")\n",
        "\n",
        "  # Calculate metrics\n",
        "  accuracy = accuracy_score(y_true, y_pred)\n",
        "  precision = precision_score(y_true, y_pred)\n",
        "  recall = recall_score(y_true, y_pred)\n",
        "  f1 = f1_score(y_true, y_pred)\n",
        "  confusion = confusion_matrix(y_true, y_pred)\n",
        "\n",
        "  return accuracy, precision, recall, f1, confusion"
      ],
      "metadata": {
        "id": "oOtEOgg9hKTr"
      },
      "execution_count": 45,
      "outputs": []
    },
    {
      "cell_type": "code",
      "source": [
        "enc_model = EncConvNet(model)\n",
        "accuracy, precision, recall, f1, confusion = encrypted_evaluation(enc_model, enc_x_test, y_test)\n",
        "print_metrics(accuracy, precision, recall, f1, confusion)"
      ],
      "metadata": {
        "id": "bSoyhFtFhfvj",
        "colab": {
          "base_uri": "https://localhost:8080/"
        },
        "outputId": "a7473363-41a0-4bed-e9ac-5793972807a5"
      },
      "execution_count": 46,
      "outputs": [
        {
          "output_type": "stream",
          "name": "stdout",
          "text": [
            "Evaluated test_set of 14139 entries in 1616 seconds\n",
            "Accuracy: 0.7583\n",
            "Precision: 0.7300\n",
            "Recall: 0.8211\n",
            "F1 Score: 0.7729\n",
            "Confusion Matrix:\n",
            " [[4908 2150]\n",
            " [1267 5814]]\n"
          ]
        }
      ]
    }
  ]
}