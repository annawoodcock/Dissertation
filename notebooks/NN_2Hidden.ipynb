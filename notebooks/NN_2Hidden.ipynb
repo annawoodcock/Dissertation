{
  "nbformat": 4,
  "nbformat_minor": 0,
  "metadata": {
    "colab": {
      "provenance": [],
      "machine_shape": "hm",
      "gpuType": "T4",
      "authorship_tag": "ABX9TyNANsGHzljGblwXPI1dKc6M"
    },
    "kernelspec": {
      "name": "python3",
      "display_name": "Python 3"
    },
    "language_info": {
      "name": "python"
    },
    "accelerator": "GPU"
  },
  "cells": [
    {
      "cell_type": "markdown",
      "source": [
        "Below is the list of required files that need to uploaded for this script to run:\n",
        "\n",
        "- `nn_utils.py`\n",
        "- `utils.py`\n",
        "- 'diabetes_binary_5050split_health_indicators_BRFSS2015.csv`"
      ],
      "metadata": {
        "id": "HTrtx53ejxyz"
      }
    },
    {
      "cell_type": "code",
      "execution_count": 1,
      "metadata": {
        "colab": {
          "base_uri": "https://localhost:8080/"
        },
        "id": "qsTN29a5dkdN",
        "outputId": "f6af2b20-0de8-4254-84fa-3fa75c7a428d"
      },
      "outputs": [
        {
          "output_type": "stream",
          "name": "stdout",
          "text": [
            "Collecting tenseal\n",
            "  Downloading tenseal-0.3.14-cp310-cp310-manylinux_2_17_x86_64.manylinux2014_x86_64.whl (4.9 MB)\n",
            "\u001b[2K     \u001b[90m━━━━━━━━━━━━━━━━━━━━━━━━━━━━━━━━━━━━━━━━\u001b[0m \u001b[32m4.9/4.9 MB\u001b[0m \u001b[31m55.4 MB/s\u001b[0m eta \u001b[36m0:00:00\u001b[0m\n",
            "\u001b[?25hInstalling collected packages: tenseal\n",
            "Successfully installed tenseal-0.3.14\n"
          ]
        }
      ],
      "source": [
        "pip install tenseal"
      ]
    },
    {
      "cell_type": "code",
      "source": [
        "import torch\n",
        "import random\n",
        "import tenseal as ts\n",
        "from time import time\n",
        "from utils import load_diabetes_data_5050,create_dataloader, print_metrics\n",
        "from nn_utils import NeuralNet2,train, evaluate_model\n",
        "\n",
        "torch.random.manual_seed(73)\n",
        "random.seed(73)"
      ],
      "metadata": {
        "id": "CKS4jkWcd9gg"
      },
      "execution_count": 2,
      "outputs": []
    },
    {
      "cell_type": "markdown",
      "source": [
        "# Training Neural Network on Unencrypted Data"
      ],
      "metadata": {
        "id": "Ckxw8hwjfydR"
      }
    },
    {
      "cell_type": "code",
      "source": [
        "#Load BRFSS dataset with 50/50 split\n",
        "x_train, x_test, y_train, y_test = load_diabetes_data_5050()"
      ],
      "metadata": {
        "id": "HS_bXUCfeZh0"
      },
      "execution_count": 3,
      "outputs": []
    },
    {
      "cell_type": "code",
      "source": [
        "train_dl = create_dataloader(x_train, y_train)\n",
        "test_dl = create_dataloader(x_test, y_test)"
      ],
      "metadata": {
        "id": "VpoFjGIaebNz"
      },
      "execution_count": 4,
      "outputs": []
    },
    {
      "cell_type": "code",
      "source": [
        "model = NeuralNet2()\n",
        "criterion = torch.nn.BCEWithLogitsLoss()\n",
        "optimizer = torch.optim.Adam(model.parameters(), lr=0.001)\n",
        "model = train(model, train_dl, criterion, optimizer, 10)"
      ],
      "metadata": {
        "colab": {
          "base_uri": "https://localhost:8080/"
        },
        "id": "sN9o2CYaeeE_",
        "outputId": "fe56bad2-d9e6-467c-e8f8-1258047b39c6"
      },
      "execution_count": 5,
      "outputs": [
        {
          "output_type": "stream",
          "name": "stdout",
          "text": [
            "Epoch: 1 \tTraining Loss: 0.534956\n",
            "Epoch: 2 \tTraining Loss: 0.507052\n",
            "Epoch: 3 \tTraining Loss: 0.505393\n",
            "Epoch: 4 \tTraining Loss: 0.504693\n",
            "Epoch: 5 \tTraining Loss: 0.504230\n",
            "Epoch: 6 \tTraining Loss: 0.503844\n",
            "Epoch: 7 \tTraining Loss: 0.503524\n",
            "Epoch: 8 \tTraining Loss: 0.503296\n",
            "Epoch: 9 \tTraining Loss: 0.503141\n",
            "Epoch: 10 \tTraining Loss: 0.503042\n"
          ]
        }
      ]
    },
    {
      "cell_type": "code",
      "source": [
        "# Evaluate the model\n",
        "accuracy, precision, recall, f1, confusion = evaluate_model(model, test_dl)\n",
        "\n",
        "# Print the evaluation metrics\n",
        "print_metrics(accuracy, precision, recall, f1, confusion)"
      ],
      "metadata": {
        "colab": {
          "base_uri": "https://localhost:8080/"
        },
        "id": "BYfuFzemef56",
        "outputId": "b3671298-4013-4d62-94f5-407b4eb26728"
      },
      "execution_count": 6,
      "outputs": [
        {
          "output_type": "stream",
          "name": "stdout",
          "text": [
            "Evaluated test_set of 14139 entries in 0 seconds\n",
            "Accuracy: 0.7566\n",
            "Precision: 0.7222\n",
            "Recall: 0.8353\n",
            "F1 Score: 0.7747\n",
            "Confusion Matrix:\n",
            " [[4783 2275]\n",
            " [1166 5915]]\n"
          ]
        }
      ]
    },
    {
      "cell_type": "markdown",
      "source": [
        "# Evaluating NN on encrypted data"
      ],
      "metadata": {
        "id": "kZI5sBf9f6xh"
      }
    },
    {
      "cell_type": "code",
      "source": [
        "## Encryption Parameters\n",
        "\n",
        "# controls precision of the fractional part\n",
        "bits_scale = 26\n",
        "\n",
        "# Create TenSEAL context\n",
        "context = ts.context(\n",
        "    ts.SCHEME_TYPE.CKKS,\n",
        "    poly_modulus_degree=8192,\n",
        "    coeff_mod_bit_sizes=[31,  bits_scale, bits_scale, bits_scale, bits_scale, bits_scale, 31]\n",
        ")\n",
        "\n",
        "# set the scale\n",
        "context.global_scale = pow(2, bits_scale)\n",
        "\n",
        "# galois keys are required to do ciphertext rotations\n",
        "context.generate_galois_keys()"
      ],
      "metadata": {
        "id": "mgYmOzSuf-rp"
      },
      "execution_count": 7,
      "outputs": []
    },
    {
      "cell_type": "code",
      "source": [
        "\n",
        "t_start = time()\n",
        "enc_x_test = [ts.ckks_vector(context, x.tolist()) for x in x_test]\n",
        "t_end = time()\n",
        "print(f\"Encryption of the test-set took {int(t_end - t_start)} seconds\")"
      ],
      "metadata": {
        "colab": {
          "base_uri": "https://localhost:8080/"
        },
        "id": "O5UQg_Ffg3Vt",
        "outputId": "24136266-9571-4235-856c-d0b3ef46c4b1"
      },
      "execution_count": 8,
      "outputs": [
        {
          "output_type": "stream",
          "name": "stdout",
          "text": [
            "Encryption of the test-set took 123 seconds\n"
          ]
        }
      ]
    },
    {
      "cell_type": "code",
      "source": [
        "class EncConvNet:\n",
        "    def __init__(self, torch_nn):\n",
        "\n",
        "        self.fc1_weight = torch_nn.fc1.weight.T.data.tolist()\n",
        "        self.fc1_bias = torch_nn.fc1.bias.data.tolist()\n",
        "\n",
        "        self.fc2_weight = torch_nn.fc2.weight.T.data.tolist()\n",
        "        self.fc2_bias = torch_nn.fc2.bias.data.tolist()\n",
        "\n",
        "        self.fc3_weight = torch_nn.fc3.weight.T.data.tolist()\n",
        "        self.fc3_bias = torch_nn.fc3.bias.data.tolist()\n",
        "\n",
        "\n",
        "    def forward(self, enc_x):\n",
        "        # fc1 layer\n",
        "        enc_x = enc_x.mm(self.fc1_weight) + self.fc1_bias\n",
        "        # square activation\n",
        "        enc_x.square_()\n",
        "        # fc2 layer\n",
        "        enc_x = enc_x.mm(self.fc2_weight) + self.fc2_bias\n",
        "        # square activation\n",
        "        enc_x.square_()\n",
        "        # fc3 layer\n",
        "        enc_x = enc_x.mm(self.fc3_weight) + self.fc3_bias\n",
        "        return enc_x\n",
        "\n",
        "    def __call__(self, *args, **kwargs):\n",
        "        return self.forward(*args, **kwargs)\n"
      ],
      "metadata": {
        "id": "qOzQsONrgaJB"
      },
      "execution_count": 9,
      "outputs": []
    },
    {
      "cell_type": "code",
      "source": [
        "from sklearn.metrics import accuracy_score, precision_score, recall_score, f1_score, confusion_matrix\n",
        "\n",
        "def encrypted_evaluation(model, enc_x_test, y_test):\n",
        "  t_start = time()\n",
        "  y_true = []\n",
        "  y_pred = []\n",
        "\n",
        "  for enc_x, y in zip(enc_x_test, y_test):\n",
        "        # encrypted evaluation\n",
        "        enc_out = model(enc_x)\n",
        "        # plain comparison\n",
        "        output = enc_out.decrypt()\n",
        "        output = torch.tensor(output)\n",
        "        output = torch.sigmoid(output)\n",
        "        predicted = output >= 0.5\n",
        "        y_true.extend(y.view(-1).tolist())\n",
        "        y_pred.extend(predicted.view(-1).tolist())\n",
        "\n",
        "  t_end = time()\n",
        "  print(f\"Evaluated test_set of {len(y_test)} entries in {int(t_end - t_start)} seconds\")\n",
        "\n",
        "  # Calculate metrics\n",
        "  accuracy = accuracy_score(y_true, y_pred)\n",
        "  precision = precision_score(y_true, y_pred)\n",
        "  recall = recall_score(y_true, y_pred)\n",
        "  f1 = f1_score(y_true, y_pred)\n",
        "  confusion = confusion_matrix(y_true, y_pred)\n",
        "\n",
        "  return accuracy, precision, recall, f1, confusion"
      ],
      "metadata": {
        "id": "oOtEOgg9hKTr"
      },
      "execution_count": 10,
      "outputs": []
    },
    {
      "cell_type": "code",
      "source": [
        "enc_model = EncConvNet(model)\n",
        "accuracy, precision, recall, f1, confusion = encrypted_evaluation(enc_model, enc_x_test, y_test)\n",
        "print_metrics(accuracy, precision, recall, f1, confusion)"
      ],
      "metadata": {
        "id": "bSoyhFtFhfvj",
        "colab": {
          "base_uri": "https://localhost:8080/"
        },
        "outputId": "b1e3790b-8da6-41f7-e8c1-8f73c763eeb0"
      },
      "execution_count": 11,
      "outputs": [
        {
          "output_type": "stream",
          "name": "stdout",
          "text": [
            "Evaluated test_set of 14139 entries in 2938 seconds\n",
            "Accuracy: 0.7386\n",
            "Precision: 0.6852\n",
            "Recall: 0.8843\n",
            "F1 Score: 0.7721\n",
            "Confusion Matrix:\n",
            " [[4181 2877]\n",
            " [ 819 6262]]\n"
          ]
        }
      ]
    }
  ]
}
